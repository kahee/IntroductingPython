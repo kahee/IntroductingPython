{
 "cells": [
  {
   "cell_type": "code",
   "execution_count": 23,
   "metadata": {},
   "outputs": [],
   "source": [
    "import random\n",
    "\n",
    "number1 = [random.randomrange(100) for i in range(40)]\n",
    "length = len(number)-1\n",
    "\n",
    "def bubble_sore(number):\n",
    "    for i in range(length, 0, -1):\n",
    "        for j in range(i):\n",
    "            if number[j] > number[j+1]:\n",
    "                number[j], number[j+1] = number[j+1], number[j]\n",
    "    return number \n",
    "\n",
    "bubble_sort(number1)\n",
    "\n"
   ]
  },
  {
   "cell_type": "code",
   "execution_count": null,
   "metadata": {},
   "outputs": [],
   "source": [
    "# 버블 정렬\n",
    "# 큰 숫자부터 정렬 \n",
    "# 빅오 = 상한시간 = 실행시간 \n",
    "import random \n",
    "\n",
    "number1 = [random.randrange(100) for i in range(40)]# 버블 정렬 \n",
    "length = len(number)-1\n",
    "\n",
    "def bubble_sort(number):\n",
    "    for i in range(length, 0, -1):\n",
    "        for j in range(i):\n",
    "            if number[j] > number[j+1]:\n",
    "                number[j], number[j+1] = number[j+1], number[j]\n",
    "    return number\n",
    "\n",
    "bubble_sort(number1)"
   ]
  },
  {
   "cell_type": "code",
   "execution_count": 50,
   "metadata": {},
   "outputs": [
    {
     "name": "stdout",
     "output_type": "stream",
     "text": [
      "38입니다\n"
     ]
    },
    {
     "data": {
      "text/plain": [
       "[0,\n",
       " 3,\n",
       " 5,\n",
       " 5,\n",
       " 6,\n",
       " 11,\n",
       " 12,\n",
       " 20,\n",
       " 22,\n",
       " 28,\n",
       " 31,\n",
       " 33,\n",
       " 34,\n",
       " 36,\n",
       " 40,\n",
       " 41,\n",
       " 47,\n",
       " 47,\n",
       " 49,\n",
       " 52,\n",
       " 54,\n",
       " 58,\n",
       " 58,\n",
       " 61,\n",
       " 61,\n",
       " 67,\n",
       " 71,\n",
       " 73,\n",
       " 75,\n",
       " 76,\n",
       " 76,\n",
       " 77,\n",
       " 77,\n",
       " 79,\n",
       " 88,\n",
       " 90,\n",
       " 90,\n",
       " 94,\n",
       " 94,\n",
       " 98]"
      ]
     },
     "execution_count": 50,
     "metadata": {},
     "output_type": "execute_result"
    }
   ],
   "source": [
    "# swap\n",
    "import random \n",
    "\n",
    "number1 = [random.randrange(100) for i in range(40)]\n",
    "\n",
    "def bubble_sort_upgrade(number):\n",
    "    legnth = len(number)-1\n",
    "    swap = True\n",
    "    swap_n = 0\n",
    "    \n",
    "    while swap:\n",
    "        swap = False\n",
    "        for i in range(legnth):\n",
    "            if number[i] > number[i+1]:\n",
    "                number[i], number[i+1] = number[i+1], number[i]\n",
    "                swap = True\n",
    "    print(f'{i}입니다')\n",
    "    return number\n",
    "            \n",
    "bubble_sort_upgrade(number1)"
   ]
  },
  {
   "cell_type": "code",
   "execution_count": 1,
   "metadata": {},
   "outputs": [
    {
     "ename": "TypeError",
     "evalue": "object of type 'type' has no len()",
     "traceback": [
      "\u001b[0;31m---------------------------------------------------------------------------\u001b[0m",
      "\u001b[0;31mTypeError\u001b[0m                                 Traceback (most recent call last)",
      "\u001b[0;32m<ipython-input-1-8a0ce73e005c>\u001b[0m in \u001b[0;36m<module>\u001b[0;34m()\u001b[0m\n\u001b[1;32m      1\u001b[0m \u001b[0;31m# selection_sorc(list)\u001b[0m\u001b[0;34m\u001b[0m\u001b[0;34m\u001b[0m\u001b[0m\n\u001b[1;32m      2\u001b[0m \u001b[0;34m\u001b[0m\u001b[0m\n\u001b[0;32m----> 3\u001b[0;31m \u001b[0mlength\u001b[0m \u001b[0;34m=\u001b[0m \u001b[0mlen\u001b[0m\u001b[0;34m(\u001b[0m\u001b[0mlist\u001b[0m\u001b[0;34m)\u001b[0m\u001b[0;34m\u001b[0m\u001b[0m\n\u001b[0m\u001b[1;32m      4\u001b[0m \u001b[0;32mfor\u001b[0m \u001b[0mi\u001b[0m \u001b[0;32min\u001b[0m \u001b[0mrange\u001b[0m\u001b[0;34m(\u001b[0m\u001b[0mlength\u001b[0m\u001b[0;34m-\u001b[0m\u001b[0;36m1\u001b[0m\u001b[0;34m)\u001b[0m\u001b[0;34m:\u001b[0m\u001b[0;34m\u001b[0m\u001b[0m\n\u001b[1;32m      5\u001b[0m     \u001b[0mmin_index\u001b[0m \u001b[0;34m=\u001b[0m \u001b[0mi\u001b[0m\u001b[0;34m\u001b[0m\u001b[0m\n",
      "\u001b[0;31mTypeError\u001b[0m: object of type 'type' has no len()"
     ],
     "output_type": "error"
    }
   ],
   "source": [
    "# selection_sorc(list)\n",
    "\n",
    "length = len(list)\n",
    "for i in range(length-1):\n",
    "    min_index = i\n",
    "    for j in range(i+1, length):\n",
    "        if list[min_index] > list[j]:\n",
    "            min_index = j\n",
    "        if min_index != i:\n",
    "            list[j], list[min_index] = list[min_index], list[j]\n",
    "    return list"
   ]
  },
  {
   "cell_type": "code",
   "execution_count": 4,
   "metadata": {},
   "outputs": [
    {
     "name": "stdout",
     "output_type": "stream",
     "text": [
      "[2, 6, 6, 7, 9, 11, 15, 15, 15, 15, 17, 20, 21, 24, 24, 26, 31, 31, 32, 32, 38, 39, 47, 51, 53, 54, 58, 61, 61, 64, 65, 74, 75, 78, 79, 79, 80, 84, 92, 98]\n"
     ]
    }
   ],
   "source": [
    "#insertion_sort \n",
    "import random \n",
    "\n",
    "number1 = [random.randrange(100) for i in range(40)]\n",
    "\n",
    "def insertion_sort(list):\n",
    "    length = len(list)\n",
    "    \n",
    "    for i in range(1,length):\n",
    "        curr_value = list[i]\n",
    "        index = i\n",
    "        \n",
    "        while index > 0 and list[index-1]>curr_value:\n",
    "            list[index] = list[index-1]\n",
    "            # 뒤에서 앞으로 당겨서 비교\n",
    "            index -=1 \n",
    "        list[index] = curr_value \n",
    "    \n",
    "    return list\n",
    "\n",
    "print(insertion_sort(number1))\n",
    "        \n",
    "        "
   ]
  },
  {
   "cell_type": "code",
   "execution_count": 6,
   "metadata": {},
   "outputs": [
    {
     "ename": "SyntaxError",
     "evalue": "invalid syntax (<ipython-input-6-efcc88608fa1>, line 1)",
     "traceback": [
      "\u001b[0;36m  File \u001b[0;32m\"<ipython-input-6-efcc88608fa1>\"\u001b[0;36m, line \u001b[0;32m1\u001b[0m\n\u001b[0;31m    - Best Case\u001b[0m\n\u001b[0m              ^\u001b[0m\n\u001b[0;31mSyntaxError\u001b[0m\u001b[0;31m:\u001b[0m invalid syntax\n"
     ],
     "output_type": "error"
    }
   ],
   "source": [
    "- Best Case\n",
    "1. 비교 (for문) O(n) \n",
    "2. 할당 : O(0)\n",
    "- 버블 정렬보다 낫지만 그 나물에 그밥 \n",
    "\n",
    "def insertion_sort(list):\n",
    "    length = len(list)\n",
    "    \n",
    "    for i in range(1, length):\n",
    "        curr_value = list[i]\n",
    "        index = i\n",
    "        \n",
    "        while index > 0 and list[index-1] > curr_value:\n",
    "            list[index] = list[index-1]\n",
    "            index -= 1 \n",
    "            \n",
    "        list[index] = curr_value\n",
    "        \n",
    "    return list\n"
   ]
  },
  {
   "cell_type": "code",
   "execution_count": null,
   "metadata": {},
   "outputs": [],
   "source": []
  }
 ],
 "metadata": {
  "kernelspec": {
   "display_name": "Python 3",
   "language": "python",
   "name": "python3"
  },
  "language_info": {
   "codemirror_mode": {
    "name": "ipython",
    "version": 3
   },
   "file_extension": ".py",
   "mimetype": "text/x-python",
   "name": "python",
   "nbconvert_exporter": "python",
   "pygments_lexer": "ipython3",
   "version": "3.6.4"
  }
 },
 "nbformat": 4,
 "nbformat_minor": 2
}
