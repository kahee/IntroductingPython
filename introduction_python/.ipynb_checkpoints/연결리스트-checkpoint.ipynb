{
 "cells": [
  {
   "cell_type": "code",
   "execution_count": 215,
   "metadata": {},
   "outputs": [
    {
     "name": "stdout",
     "output_type": "stream",
     "text": [
      "cherry ->orange ->apple ->grape\n",
      "cherry는 0 번째\n",
      "kiwi는  None\n",
      "pear 다음 노드 삭세후:cherry ->apple ->grape\n",
      "첫 노드 삭세 후:apple ->grape\n",
      "첫 노드로 망고, 딸기 삽입 후:strawberry ->mango ->apple ->grape\n"
     ]
    }
   ],
   "source": [
    "class EmptyError(Exception):\n",
    "    pass\n",
    "\n",
    "\n",
    "class SList:\n",
    "    class Node:\n",
    "        def __init__(self, item, link):\n",
    "            self.item = item\n",
    "            self.next = link\n",
    "\n",
    "    def __init__(self):\n",
    "        self.head = None\n",
    "        self.size = 0\n",
    "\n",
    "    def size(self):\n",
    "        return self.size\n",
    "\n",
    "    def is_empty(self):\n",
    "        return self.size == 0\n",
    "\n",
    "    def insert_front(self, item):\n",
    "        if self.is_empty():\n",
    "            self.head = self.Node(item, None)\n",
    "\n",
    "        else:\n",
    "            self.head = self.Node(item, self.head)\n",
    "\n",
    "        self.size += 1\n",
    "\n",
    "    def insert_after(self, item, p):\n",
    "\n",
    "        # 오렌지를 선택\n",
    "        # 오렌지 다음의 아이템을 연결\n",
    "        # P가 결과적으로 오렌지니까 사과랑 연결이 됨\n",
    "        p.next = self.Node(item, p.next)\n",
    "\n",
    "        self.size += 1\n",
    "\n",
    "    def delete_front(self):\n",
    "        \"\"\"\n",
    "        첫 노드를 삭제 하는 경우\n",
    "        :return:\n",
    "        \"\"\"\n",
    "        if self.is_empty():\n",
    "            raise EmptyError('Underflow')\n",
    "\n",
    "        else:\n",
    "            self.head = self.head.next\n",
    "            self.size -= 1\n",
    "\n",
    "    def delete_after(self, p):\n",
    "        \"\"\"\n",
    "        p가 가리키는 노드의 다음 노드를 삭제\n",
    "        :param p:\n",
    "        :return:\n",
    "        \"\"\"\n",
    "        if self.is_empty():\n",
    "            raise EmptyError('Underflow')\n",
    "        t = p.next\n",
    "        p.next = t.next\n",
    "        self.size -= 1\n",
    "\n",
    "    def search(self, target):\n",
    "        # head부터 순차적으로 검색\n",
    "        p = self.head\n",
    "\n",
    "        for k in range(self.size):\n",
    "            # 탐색 성공\n",
    "            if target == p.item:\n",
    "                return k\n",
    "            p = p.next\n",
    "        # 탐색 실패\n",
    "        return None\n",
    "\n",
    "    def print_list(self):\n",
    "        p = self.head\n",
    "\n",
    "        while p:\n",
    "            if p.next != None:\n",
    "                print(p.item, '->', end='')\n",
    "            else:\n",
    "                print(p.item)\n",
    "\n",
    "            p = p.next\n",
    "            \n",
    "    def add_list(self, list):\n",
    "        p = self.head\n",
    "\n",
    "        while p:\n",
    "            if p.next == None:\n",
    "                p.next = list.head\n",
    "                break\n",
    "            p = p.next\n",
    "            \n",
    "\n",
    "\n",
    "if __name__ == '__main__':\n",
    "    s = SList()\n",
    "    s.insert_front('grape')\n",
    "    s.insert_front('orange')\n",
    "    s.insert_front('cherry')\n",
    "    s.insert_after('apple', s.head.next)\n",
    "    s.print_list()\n",
    "    print('cherry는 %d 번째' % s.search('cherry'))\n",
    "    print('kiwi는 ', s.search('kiwi'))\n",
    "    # end = 줄바꿈 방지\n",
    "    # print 문 실행 시 항상 문자열 마지막에 \\n 문자가 출력되어 줄바꿈이 일어나게 된다. 이렇게 마지막 문자인 \\n을 생략할 수 있는 방법\n",
    "    print('pear 다음 노드 삭세후:', end='')\n",
    "    s.delete_after(s.head)\n",
    "    s.print_list()\n",
    "    print('첫 노드 삭세 후:', end= '')\n",
    "    s.delete_front()\n",
    "    s.print_list()\n",
    "    print('첫 노드로 망고, 딸기 삽입 후:', end='')\n",
    "    s.insert_front('mango')\n",
    "    s.insert_front('strawberry')\n",
    "    s.print_list()"
   ]
  },
  {
   "cell_type": "code",
   "execution_count": 232,
   "metadata": {},
   "outputs": [
    {
     "name": "stdout",
     "output_type": "stream",
     "text": [
      "cherry ->orange ->grape\n",
      "키위\n"
     ]
    }
   ],
   "source": [
    "import copy\n",
    "s = SList()\n",
    "s.insert_front('grape')\n",
    "s.insert_front('orange')\n",
    "s.insert_front('cherry')\n",
    "\n",
    "s.print_list()\n",
    "# s2 = s\n",
    "# 얕은 copy\n",
    "# s2 = copy.copy(s)\n",
    "# 깊은 copy\n",
    "# s2 = copy.deepcopy(s)\n",
    "\n",
    "s2 = SList()\n",
    "s2.insert_front('키위')\n",
    "s2.print_list()\n"
   ]
  },
  {
   "cell_type": "code",
   "execution_count": 230,
   "metadata": {},
   "outputs": [],
   "source": [
    "s.add_list(s2)\n",
    "\n"
   ]
  },
  {
   "cell_type": "code",
   "execution_count": 231,
   "metadata": {},
   "outputs": [
    {
     "name": "stdout",
     "output_type": "stream",
     "text": [
      "cherry ->orange ->grape ->키위\n"
     ]
    }
   ],
   "source": [
    "s.print_list()"
   ]
  }
 ],
 "metadata": {
  "kernelspec": {
   "display_name": "Python 3",
   "language": "python",
   "name": "python3"
  },
  "language_info": {
   "codemirror_mode": {
    "name": "ipython",
    "version": 3
   },
   "file_extension": ".py",
   "mimetype": "text/x-python",
   "name": "python",
   "nbconvert_exporter": "python",
   "pygments_lexer": "ipython3",
   "version": "3.6.4"
  }
 },
 "nbformat": 4,
 "nbformat_minor": 2
}
